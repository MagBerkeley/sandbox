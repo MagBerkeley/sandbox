{
 "cells": [
  {
   "cell_type": "code",
   "execution_count": 28,
   "metadata": {
    "collapsed": false
   },
   "outputs": [
    {
     "data": {
      "text/plain": [
       "'/Users/maggiec/Documents/kaggle/crime_rate'"
      ]
     },
     "execution_count": 28,
     "metadata": {},
     "output_type": "execute_result"
    }
   ],
   "source": [
    "import datetime as dt\n",
    "import random as random\n",
    "import os\n",
    "import numpy as np\n",
    "import pandas as pd\n",
    "os.getcwd()"
   ]
  },
  {
   "cell_type": "code",
   "execution_count": 29,
   "metadata": {
    "collapsed": true
   },
   "outputs": [],
   "source": [
    "test0=pd.read_csv('test.csv')\n",
    "train0=pd.read_csv('train.csv')"
   ]
  },
  {
   "cell_type": "code",
   "execution_count": 6,
   "metadata": {
    "collapsed": false
   },
   "outputs": [
    {
     "data": {
      "text/html": [
       "<div>\n",
       "<table border=\"1\" class=\"dataframe\">\n",
       "  <thead>\n",
       "    <tr style=\"text-align: right;\">\n",
       "      <th></th>\n",
       "      <th>Dates</th>\n",
       "      <th>Category</th>\n",
       "      <th>Descript</th>\n",
       "      <th>DayOfWeek</th>\n",
       "      <th>PdDistrict</th>\n",
       "      <th>Resolution</th>\n",
       "      <th>Address</th>\n",
       "      <th>X</th>\n",
       "      <th>Y</th>\n",
       "    </tr>\n",
       "  </thead>\n",
       "  <tbody>\n",
       "    <tr>\n",
       "      <th>0</th>\n",
       "      <td>2015-05-13 23:53:00</td>\n",
       "      <td>WARRANTS</td>\n",
       "      <td>WARRANT ARREST</td>\n",
       "      <td>Wednesday</td>\n",
       "      <td>NORTHERN</td>\n",
       "      <td>ARREST, BOOKED</td>\n",
       "      <td>OAK ST / LAGUNA ST</td>\n",
       "      <td>-122.425892</td>\n",
       "      <td>37.774599</td>\n",
       "    </tr>\n",
       "    <tr>\n",
       "      <th>1</th>\n",
       "      <td>2015-05-13 23:53:00</td>\n",
       "      <td>OTHER OFFENSES</td>\n",
       "      <td>TRAFFIC VIOLATION ARREST</td>\n",
       "      <td>Wednesday</td>\n",
       "      <td>NORTHERN</td>\n",
       "      <td>ARREST, BOOKED</td>\n",
       "      <td>OAK ST / LAGUNA ST</td>\n",
       "      <td>-122.425892</td>\n",
       "      <td>37.774599</td>\n",
       "    </tr>\n",
       "    <tr>\n",
       "      <th>2</th>\n",
       "      <td>2015-05-13 23:33:00</td>\n",
       "      <td>OTHER OFFENSES</td>\n",
       "      <td>TRAFFIC VIOLATION ARREST</td>\n",
       "      <td>Wednesday</td>\n",
       "      <td>NORTHERN</td>\n",
       "      <td>ARREST, BOOKED</td>\n",
       "      <td>VANNESS AV / GREENWICH ST</td>\n",
       "      <td>-122.424363</td>\n",
       "      <td>37.800414</td>\n",
       "    </tr>\n",
       "    <tr>\n",
       "      <th>3</th>\n",
       "      <td>2015-05-13 23:30:00</td>\n",
       "      <td>LARCENY/THEFT</td>\n",
       "      <td>GRAND THEFT FROM LOCKED AUTO</td>\n",
       "      <td>Wednesday</td>\n",
       "      <td>NORTHERN</td>\n",
       "      <td>NONE</td>\n",
       "      <td>1500 Block of LOMBARD ST</td>\n",
       "      <td>-122.426995</td>\n",
       "      <td>37.800873</td>\n",
       "    </tr>\n",
       "    <tr>\n",
       "      <th>4</th>\n",
       "      <td>2015-05-13 23:30:00</td>\n",
       "      <td>LARCENY/THEFT</td>\n",
       "      <td>GRAND THEFT FROM LOCKED AUTO</td>\n",
       "      <td>Wednesday</td>\n",
       "      <td>PARK</td>\n",
       "      <td>NONE</td>\n",
       "      <td>100 Block of BRODERICK ST</td>\n",
       "      <td>-122.438738</td>\n",
       "      <td>37.771541</td>\n",
       "    </tr>\n",
       "  </tbody>\n",
       "</table>\n",
       "</div>"
      ],
      "text/plain": [
       "                 Dates        Category                      Descript  \\\n",
       "0  2015-05-13 23:53:00        WARRANTS                WARRANT ARREST   \n",
       "1  2015-05-13 23:53:00  OTHER OFFENSES      TRAFFIC VIOLATION ARREST   \n",
       "2  2015-05-13 23:33:00  OTHER OFFENSES      TRAFFIC VIOLATION ARREST   \n",
       "3  2015-05-13 23:30:00   LARCENY/THEFT  GRAND THEFT FROM LOCKED AUTO   \n",
       "4  2015-05-13 23:30:00   LARCENY/THEFT  GRAND THEFT FROM LOCKED AUTO   \n",
       "\n",
       "   DayOfWeek PdDistrict      Resolution                    Address  \\\n",
       "0  Wednesday   NORTHERN  ARREST, BOOKED         OAK ST / LAGUNA ST   \n",
       "1  Wednesday   NORTHERN  ARREST, BOOKED         OAK ST / LAGUNA ST   \n",
       "2  Wednesday   NORTHERN  ARREST, BOOKED  VANNESS AV / GREENWICH ST   \n",
       "3  Wednesday   NORTHERN            NONE   1500 Block of LOMBARD ST   \n",
       "4  Wednesday       PARK            NONE  100 Block of BRODERICK ST   \n",
       "\n",
       "            X          Y  \n",
       "0 -122.425892  37.774599  \n",
       "1 -122.425892  37.774599  \n",
       "2 -122.424363  37.800414  \n",
       "3 -122.426995  37.800873  \n",
       "4 -122.438738  37.771541  "
      ]
     },
     "execution_count": 6,
     "metadata": {},
     "output_type": "execute_result"
    }
   ],
   "source": [
    "test0.head()\n",
    "train0.head()"
   ]
  },
  {
   "cell_type": "code",
   "execution_count": 107,
   "metadata": {
    "collapsed": false
   },
   "outputs": [],
   "source": [
    "train=train0.sample(10)\n",
    "train=train0\n"
   ]
  },
  {
   "cell_type": "code",
   "execution_count": 108,
   "metadata": {
    "collapsed": false
   },
   "outputs": [
    {
     "data": {
      "text/plain": [
       "Dates          object\n",
       "Category       object\n",
       "Descript       object\n",
       "DayOfWeek      object\n",
       "PdDistrict     object\n",
       "Resolution     object\n",
       "Address        object\n",
       "X             float64\n",
       "Y             float64\n",
       "dtype: object"
      ]
     },
     "execution_count": 108,
     "metadata": {},
     "output_type": "execute_result"
    }
   ],
   "source": [
    "train.dtypes\n"
   ]
  },
  {
   "cell_type": "code",
   "execution_count": 109,
   "metadata": {
    "collapsed": false
   },
   "outputs": [
    {
     "data": {
      "text/plain": [
       "dtype('O')"
      ]
     },
     "execution_count": 109,
     "metadata": {},
     "output_type": "execute_result"
    }
   ],
   "source": [
    "train.Dates.dtype"
   ]
  },
  {
   "cell_type": "code",
   "execution_count": null,
   "metadata": {
    "collapsed": false
   },
   "outputs": [],
   "source": [
    "a=pd.to_datetime(train.Dates)\n",
    "a=train.Dates\n",
    "a\n",
    "a1=a.apply(lambda x:datetime.strptime(x,\"%Y-%m-%d %H:%M:%S\"))\n",
    "a1.apply(lambda x:x.month)\n",
    "a1.apply(lambda x:x.week)\n"
   ]
  },
  {
   "cell_type": "code",
   "execution_count": 111,
   "metadata": {
    "collapsed": false
   },
   "outputs": [
    {
     "data": {
      "text/plain": [
       "<bound method DataFrame.head of                       Dates                Category  \\\n",
       "0       2015-05-13 23:53:00                WARRANTS   \n",
       "1       2015-05-13 23:53:00          OTHER OFFENSES   \n",
       "2       2015-05-13 23:33:00          OTHER OFFENSES   \n",
       "3       2015-05-13 23:30:00           LARCENY/THEFT   \n",
       "4       2015-05-13 23:30:00           LARCENY/THEFT   \n",
       "5       2015-05-13 23:30:00           LARCENY/THEFT   \n",
       "6       2015-05-13 23:30:00           VEHICLE THEFT   \n",
       "7       2015-05-13 23:30:00           VEHICLE THEFT   \n",
       "8       2015-05-13 23:00:00           LARCENY/THEFT   \n",
       "9       2015-05-13 23:00:00           LARCENY/THEFT   \n",
       "10      2015-05-13 22:58:00           LARCENY/THEFT   \n",
       "11      2015-05-13 22:30:00          OTHER OFFENSES   \n",
       "12      2015-05-13 22:30:00               VANDALISM   \n",
       "13      2015-05-13 22:06:00           LARCENY/THEFT   \n",
       "14      2015-05-13 22:00:00            NON-CRIMINAL   \n",
       "15      2015-05-13 22:00:00            NON-CRIMINAL   \n",
       "16      2015-05-13 22:00:00                 ROBBERY   \n",
       "17      2015-05-13 21:55:00                 ASSAULT   \n",
       "18      2015-05-13 21:40:00          OTHER OFFENSES   \n",
       "19      2015-05-13 21:30:00            NON-CRIMINAL   \n",
       "20      2015-05-13 21:30:00           LARCENY/THEFT   \n",
       "21      2015-05-13 21:17:00                 ROBBERY   \n",
       "22      2015-05-13 21:11:00                WARRANTS   \n",
       "23      2015-05-13 21:11:00            NON-CRIMINAL   \n",
       "24      2015-05-13 21:10:00           LARCENY/THEFT   \n",
       "25      2015-05-13 21:00:00            NON-CRIMINAL   \n",
       "26      2015-05-13 21:00:00           LARCENY/THEFT   \n",
       "27      2015-05-13 21:00:00           LARCENY/THEFT   \n",
       "28      2015-05-13 21:00:00           LARCENY/THEFT   \n",
       "29      2015-05-13 20:56:00          OTHER OFFENSES   \n",
       "...                     ...                     ...   \n",
       "878019  2003-01-06 02:37:00          OTHER OFFENSES   \n",
       "878020  2003-01-06 02:32:00          OTHER OFFENSES   \n",
       "878021  2003-01-06 02:24:00               VANDALISM   \n",
       "878022  2003-01-06 02:16:00           VEHICLE THEFT   \n",
       "878023  2003-01-06 02:15:00           LARCENY/THEFT   \n",
       "878024  2003-01-06 02:09:00          OTHER OFFENSES   \n",
       "878025  2003-01-06 02:06:00          OTHER OFFENSES   \n",
       "878026  2003-01-06 02:06:00                WARRANTS   \n",
       "878027  2003-01-06 02:00:00                WARRANTS   \n",
       "878028  2003-01-06 02:00:00                 ASSAULT   \n",
       "878029  2003-01-06 01:54:00          OTHER OFFENSES   \n",
       "878030  2003-01-06 01:54:00   SEX OFFENSES FORCIBLE   \n",
       "878031  2003-01-06 01:50:00                 ASSAULT   \n",
       "878032  2003-01-06 01:36:00          OTHER OFFENSES   \n",
       "878033  2003-01-06 01:30:00               VANDALISM   \n",
       "878034  2003-01-06 01:30:00                TRESPASS   \n",
       "878035  2003-01-06 00:55:00                 ASSAULT   \n",
       "878036  2003-01-06 00:55:00           LARCENY/THEFT   \n",
       "878037  2003-01-06 00:55:00               VANDALISM   \n",
       "878038  2003-01-06 00:42:00                WARRANTS   \n",
       "878039  2003-01-06 00:40:00          OTHER OFFENSES   \n",
       "878040  2003-01-06 00:33:00                 ASSAULT   \n",
       "878041  2003-01-06 00:31:00          OTHER OFFENSES   \n",
       "878042  2003-01-06 00:20:00                 ASSAULT   \n",
       "878043  2003-01-06 00:20:00          OTHER OFFENSES   \n",
       "878044  2003-01-06 00:15:00                 ROBBERY   \n",
       "878045  2003-01-06 00:01:00           LARCENY/THEFT   \n",
       "878046  2003-01-06 00:01:00           LARCENY/THEFT   \n",
       "878047  2003-01-06 00:01:00               VANDALISM   \n",
       "878048  2003-01-06 00:01:00  FORGERY/COUNTERFEITING   \n",
       "\n",
       "                                         Descript  DayOfWeek  PdDistrict  \\\n",
       "0                                  WARRANT ARREST  Wednesday    NORTHERN   \n",
       "1                        TRAFFIC VIOLATION ARREST  Wednesday    NORTHERN   \n",
       "2                        TRAFFIC VIOLATION ARREST  Wednesday    NORTHERN   \n",
       "3                    GRAND THEFT FROM LOCKED AUTO  Wednesday    NORTHERN   \n",
       "4                    GRAND THEFT FROM LOCKED AUTO  Wednesday        PARK   \n",
       "5                  GRAND THEFT FROM UNLOCKED AUTO  Wednesday   INGLESIDE   \n",
       "6                               STOLEN AUTOMOBILE  Wednesday   INGLESIDE   \n",
       "7                               STOLEN AUTOMOBILE  Wednesday     BAYVIEW   \n",
       "8                    GRAND THEFT FROM LOCKED AUTO  Wednesday    RICHMOND   \n",
       "9                    GRAND THEFT FROM LOCKED AUTO  Wednesday     CENTRAL   \n",
       "10                   PETTY THEFT FROM LOCKED AUTO  Wednesday     CENTRAL   \n",
       "11                    MISCELLANEOUS INVESTIGATION  Wednesday     TARAVAL   \n",
       "12      MALICIOUS MISCHIEF, VANDALISM OF VEHICLES  Wednesday  TENDERLOIN   \n",
       "13                   GRAND THEFT FROM LOCKED AUTO  Wednesday    NORTHERN   \n",
       "14                                 FOUND PROPERTY  Wednesday     BAYVIEW   \n",
       "15                                 FOUND PROPERTY  Wednesday     BAYVIEW   \n",
       "16                    ROBBERY, ARMED WITH A KNIFE  Wednesday  TENDERLOIN   \n",
       "17           AGGRAVATED ASSAULT WITH BODILY FORCE  Wednesday   INGLESIDE   \n",
       "18                              TRAFFIC VIOLATION  Wednesday     BAYVIEW   \n",
       "19                                 FOUND PROPERTY  Wednesday  TENDERLOIN   \n",
       "20                   GRAND THEFT FROM LOCKED AUTO  Wednesday   INGLESIDE   \n",
       "21                          ROBBERY, BODILY FORCE  Wednesday   INGLESIDE   \n",
       "22                                 WARRANT ARREST  Wednesday  TENDERLOIN   \n",
       "23       STAY AWAY OR COURT ORDER, NON-DV RELATED  Wednesday  TENDERLOIN   \n",
       "24                   GRAND THEFT FROM LOCKED AUTO  Wednesday    NORTHERN   \n",
       "25                                  LOST PROPERTY  Wednesday  TENDERLOIN   \n",
       "26                   GRAND THEFT FROM LOCKED AUTO  Wednesday    NORTHERN   \n",
       "27                   GRAND THEFT FROM LOCKED AUTO  Wednesday   INGLESIDE   \n",
       "28            ATTEMPTED THEFT FROM LOCKED VEHICLE  Wednesday     TARAVAL   \n",
       "29                    MISCELLANEOUS INVESTIGATION  Wednesday     TARAVAL   \n",
       "...                                           ...        ...         ...   \n",
       "878019      DRIVERS LICENSE, SUSPENDED OR REVOKED     Monday    SOUTHERN   \n",
       "878020                          TRAFFIC VIOLATION     Monday    NORTHERN   \n",
       "878021                         MALICIOUS MISCHIEF     Monday    NORTHERN   \n",
       "878022      RECOVERED VEHICLE - STOLEN OUTSIDE SF     Monday     MISSION   \n",
       "878023                     GRAND THEFT PICKPOCKET     Monday  TENDERLOIN   \n",
       "878024         VIOLATION OF MUNICIPAL POLICE CODE     Monday        PARK   \n",
       "878025                          TRAFFIC VIOLATION     Monday     BAYVIEW   \n",
       "878026                             WARRANT ARREST     Monday     BAYVIEW   \n",
       "878027            ENROUTE TO OUTSIDE JURISDICTION     Monday    SOUTHERN   \n",
       "878028       AGGRAVATED ASSAULT WITH BODILY FORCE     Monday    SOUTHERN   \n",
       "878029                        PROBATION VIOLATION     Monday  TENDERLOIN   \n",
       "878030                FORCIBLE RAPE, BODILY FORCE     Monday  TENDERLOIN   \n",
       "878031                                    BATTERY     Monday     BAYVIEW   \n",
       "878032      DRIVERS LICENSE, SUSPENDED OR REVOKED     Monday    NORTHERN   \n",
       "878033              MALICIOUS MISCHIEF, VANDALISM     Monday    RICHMOND   \n",
       "878034                                TRESPASSING     Monday    RICHMOND   \n",
       "878035                                    BATTERY     Monday    NORTHERN   \n",
       "878036                    PETTY THEFT SHOPLIFTING     Monday    NORTHERN   \n",
       "878037              MALICIOUS MISCHIEF, VANDALISM     Monday    NORTHERN   \n",
       "878038            ENROUTE TO OUTSIDE JURISDICTION     Monday  TENDERLOIN   \n",
       "878039      DRIVERS LICENSE, SUSPENDED OR REVOKED     Monday    NORTHERN   \n",
       "878040                INFLICT INJURY ON COHABITEE     Monday     MISSION   \n",
       "878041      DRIVERS LICENSE, SUSPENDED OR REVOKED     Monday    RICHMOND   \n",
       "878042              ATTEMPTED HOMICIDE WITH A GUN     Monday     BAYVIEW   \n",
       "878043                           PAROLE VIOLATION     Monday     BAYVIEW   \n",
       "878044           ROBBERY ON THE STREET WITH A GUN     Monday     TARAVAL   \n",
       "878045               GRAND THEFT FROM LOCKED AUTO     Monday   INGLESIDE   \n",
       "878046               GRAND THEFT FROM LOCKED AUTO     Monday    SOUTHERN   \n",
       "878047  MALICIOUS MISCHIEF, VANDALISM OF VEHICLES     Monday    SOUTHERN   \n",
       "878048                   CHECKS, FORGERY (FELONY)     Monday     BAYVIEW   \n",
       "\n",
       "            Resolution                        Address           X          Y  \n",
       "0       ARREST, BOOKED             OAK ST / LAGUNA ST -122.425892  37.774599  \n",
       "1       ARREST, BOOKED             OAK ST / LAGUNA ST -122.425892  37.774599  \n",
       "2       ARREST, BOOKED      VANNESS AV / GREENWICH ST -122.424363  37.800414  \n",
       "3                 NONE       1500 Block of LOMBARD ST -122.426995  37.800873  \n",
       "4                 NONE      100 Block of BRODERICK ST -122.438738  37.771541  \n",
       "5                 NONE            0 Block of TEDDY AV -122.403252  37.713431  \n",
       "6                 NONE            AVALON AV / PERU AV -122.423327  37.725138  \n",
       "7                 NONE       KIRKWOOD AV / DONAHUE ST -122.371274  37.727564  \n",
       "8                 NONE           600 Block of 47TH AV -122.508194  37.776601  \n",
       "9                 NONE  JEFFERSON ST / LEAVENWORTH ST -122.419088  37.807802  \n",
       "10                NONE  JEFFERSON ST / LEAVENWORTH ST -122.419088  37.807802  \n",
       "11                NONE          0 Block of ESCOLTA WY -122.487983  37.737667  \n",
       "12                NONE             TURK ST / JONES ST -122.412414  37.783004  \n",
       "13                NONE         FILLMORE ST / GEARY BL -122.432915  37.784353  \n",
       "14                NONE       200 Block of WILLIAMS AV -122.397744  37.729935  \n",
       "15                NONE          0 Block of MENDELL ST -122.383692  37.743189  \n",
       "16                NONE             EDDY ST / JONES ST -122.412597  37.783932  \n",
       "17                NONE         GODEUS ST / MISSION ST -122.421682  37.742822  \n",
       "18      ARREST, BOOKED         MENDELL ST / HUDSON AV -122.386401  37.738983  \n",
       "19                NONE          100 Block of JONES ST -122.412250  37.782556  \n",
       "20                NONE         200 Block of EVELYN WY -122.449389  37.742669  \n",
       "21                NONE      1600 Block of VALENCIA ST -122.420272  37.747332  \n",
       "22                NONE          100 Block of JONES ST -122.412250  37.782556  \n",
       "23                NONE          100 Block of JONES ST -122.412250  37.782556  \n",
       "24                NONE       FILLMORE ST / LOMBARD ST -122.436049  37.799841  \n",
       "25                NONE       300 Block of OFARRELL ST -122.410509  37.786043  \n",
       "26                NONE          2000 Block of BUSH ST -122.431018  37.787388  \n",
       "27                NONE        500 Block of COLLEGE AV -122.423656  37.732556  \n",
       "28                NONE          19TH AV / SANTIAGO ST -122.475773  37.744919  \n",
       "29                NONE          2000 Block of 41ST AV -122.499787  37.748518  \n",
       "...                ...                            ...         ...        ...  \n",
       "878019   ARREST, CITED             6TH ST / MARKET ST -122.410294  37.782231  \n",
       "878020   ARREST, CITED          VAN NESS AV / TURK ST -122.420642  37.781961  \n",
       "878021  NOT PROSECUTED           SANCHEZ ST / 14TH ST -122.431191  37.767595  \n",
       "878022            NONE           17TH ST / MISSION ST -122.419516  37.763429  \n",
       "878023            NONE          600 Block of ELLIS ST -122.416894  37.784286  \n",
       "878024   ARREST, CITED     600 Block of DIVISADERO ST -122.437781  37.775483  \n",
       "878025  ARREST, BOOKED         NEWHALL ST / GALVEZ AV -122.387710  37.740674  \n",
       "878026  ARREST, BOOKED         NEWHALL ST / GALVEZ AV -122.387710  37.740674  \n",
       "878027  ARREST, BOOKED         900 Block of MARKET ST -122.409708  37.782828  \n",
       "878028            NONE             6TH ST / MARKET ST -122.410294  37.782231  \n",
       "878029  ARREST, BOOKED   1400 Block of GOLDEN GATE AV -122.434423  37.779193  \n",
       "878030  ARREST, BOOKED   1400 Block of GOLDEN GATE AV -122.434423  37.779193  \n",
       "878031            NONE            3RD ST / NEWCOMB AV -122.390417  37.735593  \n",
       "878032   ARREST, CITED         GEARY BL / FRANKLIN ST -122.423031  37.785482  \n",
       "878033   ARREST, CITED          1000 Block of 22ND AV -122.391668  37.757793  \n",
       "878034   ARREST, CITED          1000 Block of 22ND AV -122.391668  37.757793  \n",
       "878035            NONE       1300 Block of WEBSTER ST -122.431046  37.783030  \n",
       "878036            NONE       1300 Block of WEBSTER ST -122.431046  37.783030  \n",
       "878037            NONE       1300 Block of WEBSTER ST -122.431046  37.783030  \n",
       "878038  ARREST, BOOKED           TAYLOR ST / GEARY ST -122.411519  37.786941  \n",
       "878039   ARREST, CITED        POLK ST / CALIFORNIA ST -122.420692  37.790577  \n",
       "878040            NONE        2800 Block of FOLSOM ST -122.414073  37.751685  \n",
       "878041   ARREST, CITED           CLEMENT ST / 14TH AV -122.472985  37.782552  \n",
       "878042  ARREST, BOOKED       1500 Block of SHAFTER AV -122.389769  37.730564  \n",
       "878043  ARREST, BOOKED       1500 Block of SHAFTER AV -122.389769  37.730564  \n",
       "878044            NONE     FARALLONES ST / CAPITOL AV -122.459033  37.714056  \n",
       "878045            NONE           600 Block of EDNA ST -122.447364  37.731948  \n",
       "878046            NONE             5TH ST / FOLSOM ST -122.403390  37.780266  \n",
       "878047            NONE           TOWNSEND ST / 2ND ST -122.390531  37.780607  \n",
       "878048            NONE       1800 Block of NEWCOMB AV -122.394926  37.738212  \n",
       "\n",
       "[878049 rows x 9 columns]>"
      ]
     },
     "execution_count": 111,
     "metadata": {},
     "output_type": "execute_result"
    }
   ],
   "source": [
    "train.head"
   ]
  },
  {
   "cell_type": "code",
   "execution_count": 112,
   "metadata": {
    "collapsed": false
   },
   "outputs": [
    {
     "data": {
      "text/plain": [
       "<bound method DataFrame.head of                       Dates                Category  \\\n",
       "0       2015-05-13 23:53:00                WARRANTS   \n",
       "1       2015-05-13 23:53:00          OTHER OFFENSES   \n",
       "2       2015-05-13 23:33:00          OTHER OFFENSES   \n",
       "3       2015-05-13 23:30:00           LARCENY/THEFT   \n",
       "4       2015-05-13 23:30:00           LARCENY/THEFT   \n",
       "5       2015-05-13 23:30:00           LARCENY/THEFT   \n",
       "6       2015-05-13 23:30:00           VEHICLE THEFT   \n",
       "7       2015-05-13 23:30:00           VEHICLE THEFT   \n",
       "8       2015-05-13 23:00:00           LARCENY/THEFT   \n",
       "9       2015-05-13 23:00:00           LARCENY/THEFT   \n",
       "10      2015-05-13 22:58:00           LARCENY/THEFT   \n",
       "11      2015-05-13 22:30:00          OTHER OFFENSES   \n",
       "12      2015-05-13 22:30:00               VANDALISM   \n",
       "13      2015-05-13 22:06:00           LARCENY/THEFT   \n",
       "14      2015-05-13 22:00:00            NON-CRIMINAL   \n",
       "15      2015-05-13 22:00:00            NON-CRIMINAL   \n",
       "16      2015-05-13 22:00:00                 ROBBERY   \n",
       "17      2015-05-13 21:55:00                 ASSAULT   \n",
       "18      2015-05-13 21:40:00          OTHER OFFENSES   \n",
       "19      2015-05-13 21:30:00            NON-CRIMINAL   \n",
       "20      2015-05-13 21:30:00           LARCENY/THEFT   \n",
       "21      2015-05-13 21:17:00                 ROBBERY   \n",
       "22      2015-05-13 21:11:00                WARRANTS   \n",
       "23      2015-05-13 21:11:00            NON-CRIMINAL   \n",
       "24      2015-05-13 21:10:00           LARCENY/THEFT   \n",
       "25      2015-05-13 21:00:00            NON-CRIMINAL   \n",
       "26      2015-05-13 21:00:00           LARCENY/THEFT   \n",
       "27      2015-05-13 21:00:00           LARCENY/THEFT   \n",
       "28      2015-05-13 21:00:00           LARCENY/THEFT   \n",
       "29      2015-05-13 20:56:00          OTHER OFFENSES   \n",
       "...                     ...                     ...   \n",
       "878019  2003-01-06 02:37:00          OTHER OFFENSES   \n",
       "878020  2003-01-06 02:32:00          OTHER OFFENSES   \n",
       "878021  2003-01-06 02:24:00               VANDALISM   \n",
       "878022  2003-01-06 02:16:00           VEHICLE THEFT   \n",
       "878023  2003-01-06 02:15:00           LARCENY/THEFT   \n",
       "878024  2003-01-06 02:09:00          OTHER OFFENSES   \n",
       "878025  2003-01-06 02:06:00          OTHER OFFENSES   \n",
       "878026  2003-01-06 02:06:00                WARRANTS   \n",
       "878027  2003-01-06 02:00:00                WARRANTS   \n",
       "878028  2003-01-06 02:00:00                 ASSAULT   \n",
       "878029  2003-01-06 01:54:00          OTHER OFFENSES   \n",
       "878030  2003-01-06 01:54:00   SEX OFFENSES FORCIBLE   \n",
       "878031  2003-01-06 01:50:00                 ASSAULT   \n",
       "878032  2003-01-06 01:36:00          OTHER OFFENSES   \n",
       "878033  2003-01-06 01:30:00               VANDALISM   \n",
       "878034  2003-01-06 01:30:00                TRESPASS   \n",
       "878035  2003-01-06 00:55:00                 ASSAULT   \n",
       "878036  2003-01-06 00:55:00           LARCENY/THEFT   \n",
       "878037  2003-01-06 00:55:00               VANDALISM   \n",
       "878038  2003-01-06 00:42:00                WARRANTS   \n",
       "878039  2003-01-06 00:40:00          OTHER OFFENSES   \n",
       "878040  2003-01-06 00:33:00                 ASSAULT   \n",
       "878041  2003-01-06 00:31:00          OTHER OFFENSES   \n",
       "878042  2003-01-06 00:20:00                 ASSAULT   \n",
       "878043  2003-01-06 00:20:00          OTHER OFFENSES   \n",
       "878044  2003-01-06 00:15:00                 ROBBERY   \n",
       "878045  2003-01-06 00:01:00           LARCENY/THEFT   \n",
       "878046  2003-01-06 00:01:00           LARCENY/THEFT   \n",
       "878047  2003-01-06 00:01:00               VANDALISM   \n",
       "878048  2003-01-06 00:01:00  FORGERY/COUNTERFEITING   \n",
       "\n",
       "                                         Descript  DayOfWeek  PdDistrict  \\\n",
       "0                                  WARRANT ARREST  Wednesday    NORTHERN   \n",
       "1                        TRAFFIC VIOLATION ARREST  Wednesday    NORTHERN   \n",
       "2                        TRAFFIC VIOLATION ARREST  Wednesday    NORTHERN   \n",
       "3                    GRAND THEFT FROM LOCKED AUTO  Wednesday    NORTHERN   \n",
       "4                    GRAND THEFT FROM LOCKED AUTO  Wednesday        PARK   \n",
       "5                  GRAND THEFT FROM UNLOCKED AUTO  Wednesday   INGLESIDE   \n",
       "6                               STOLEN AUTOMOBILE  Wednesday   INGLESIDE   \n",
       "7                               STOLEN AUTOMOBILE  Wednesday     BAYVIEW   \n",
       "8                    GRAND THEFT FROM LOCKED AUTO  Wednesday    RICHMOND   \n",
       "9                    GRAND THEFT FROM LOCKED AUTO  Wednesday     CENTRAL   \n",
       "10                   PETTY THEFT FROM LOCKED AUTO  Wednesday     CENTRAL   \n",
       "11                    MISCELLANEOUS INVESTIGATION  Wednesday     TARAVAL   \n",
       "12      MALICIOUS MISCHIEF, VANDALISM OF VEHICLES  Wednesday  TENDERLOIN   \n",
       "13                   GRAND THEFT FROM LOCKED AUTO  Wednesday    NORTHERN   \n",
       "14                                 FOUND PROPERTY  Wednesday     BAYVIEW   \n",
       "15                                 FOUND PROPERTY  Wednesday     BAYVIEW   \n",
       "16                    ROBBERY, ARMED WITH A KNIFE  Wednesday  TENDERLOIN   \n",
       "17           AGGRAVATED ASSAULT WITH BODILY FORCE  Wednesday   INGLESIDE   \n",
       "18                              TRAFFIC VIOLATION  Wednesday     BAYVIEW   \n",
       "19                                 FOUND PROPERTY  Wednesday  TENDERLOIN   \n",
       "20                   GRAND THEFT FROM LOCKED AUTO  Wednesday   INGLESIDE   \n",
       "21                          ROBBERY, BODILY FORCE  Wednesday   INGLESIDE   \n",
       "22                                 WARRANT ARREST  Wednesday  TENDERLOIN   \n",
       "23       STAY AWAY OR COURT ORDER, NON-DV RELATED  Wednesday  TENDERLOIN   \n",
       "24                   GRAND THEFT FROM LOCKED AUTO  Wednesday    NORTHERN   \n",
       "25                                  LOST PROPERTY  Wednesday  TENDERLOIN   \n",
       "26                   GRAND THEFT FROM LOCKED AUTO  Wednesday    NORTHERN   \n",
       "27                   GRAND THEFT FROM LOCKED AUTO  Wednesday   INGLESIDE   \n",
       "28            ATTEMPTED THEFT FROM LOCKED VEHICLE  Wednesday     TARAVAL   \n",
       "29                    MISCELLANEOUS INVESTIGATION  Wednesday     TARAVAL   \n",
       "...                                           ...        ...         ...   \n",
       "878019      DRIVERS LICENSE, SUSPENDED OR REVOKED     Monday    SOUTHERN   \n",
       "878020                          TRAFFIC VIOLATION     Monday    NORTHERN   \n",
       "878021                         MALICIOUS MISCHIEF     Monday    NORTHERN   \n",
       "878022      RECOVERED VEHICLE - STOLEN OUTSIDE SF     Monday     MISSION   \n",
       "878023                     GRAND THEFT PICKPOCKET     Monday  TENDERLOIN   \n",
       "878024         VIOLATION OF MUNICIPAL POLICE CODE     Monday        PARK   \n",
       "878025                          TRAFFIC VIOLATION     Monday     BAYVIEW   \n",
       "878026                             WARRANT ARREST     Monday     BAYVIEW   \n",
       "878027            ENROUTE TO OUTSIDE JURISDICTION     Monday    SOUTHERN   \n",
       "878028       AGGRAVATED ASSAULT WITH BODILY FORCE     Monday    SOUTHERN   \n",
       "878029                        PROBATION VIOLATION     Monday  TENDERLOIN   \n",
       "878030                FORCIBLE RAPE, BODILY FORCE     Monday  TENDERLOIN   \n",
       "878031                                    BATTERY     Monday     BAYVIEW   \n",
       "878032      DRIVERS LICENSE, SUSPENDED OR REVOKED     Monday    NORTHERN   \n",
       "878033              MALICIOUS MISCHIEF, VANDALISM     Monday    RICHMOND   \n",
       "878034                                TRESPASSING     Monday    RICHMOND   \n",
       "878035                                    BATTERY     Monday    NORTHERN   \n",
       "878036                    PETTY THEFT SHOPLIFTING     Monday    NORTHERN   \n",
       "878037              MALICIOUS MISCHIEF, VANDALISM     Monday    NORTHERN   \n",
       "878038            ENROUTE TO OUTSIDE JURISDICTION     Monday  TENDERLOIN   \n",
       "878039      DRIVERS LICENSE, SUSPENDED OR REVOKED     Monday    NORTHERN   \n",
       "878040                INFLICT INJURY ON COHABITEE     Monday     MISSION   \n",
       "878041      DRIVERS LICENSE, SUSPENDED OR REVOKED     Monday    RICHMOND   \n",
       "878042              ATTEMPTED HOMICIDE WITH A GUN     Monday     BAYVIEW   \n",
       "878043                           PAROLE VIOLATION     Monday     BAYVIEW   \n",
       "878044           ROBBERY ON THE STREET WITH A GUN     Monday     TARAVAL   \n",
       "878045               GRAND THEFT FROM LOCKED AUTO     Monday   INGLESIDE   \n",
       "878046               GRAND THEFT FROM LOCKED AUTO     Monday    SOUTHERN   \n",
       "878047  MALICIOUS MISCHIEF, VANDALISM OF VEHICLES     Monday    SOUTHERN   \n",
       "878048                   CHECKS, FORGERY (FELONY)     Monday     BAYVIEW   \n",
       "\n",
       "            Resolution                        Address           X          Y  \\\n",
       "0       ARREST, BOOKED             OAK ST / LAGUNA ST -122.425892  37.774599   \n",
       "1       ARREST, BOOKED             OAK ST / LAGUNA ST -122.425892  37.774599   \n",
       "2       ARREST, BOOKED      VANNESS AV / GREENWICH ST -122.424363  37.800414   \n",
       "3                 NONE       1500 Block of LOMBARD ST -122.426995  37.800873   \n",
       "4                 NONE      100 Block of BRODERICK ST -122.438738  37.771541   \n",
       "5                 NONE            0 Block of TEDDY AV -122.403252  37.713431   \n",
       "6                 NONE            AVALON AV / PERU AV -122.423327  37.725138   \n",
       "7                 NONE       KIRKWOOD AV / DONAHUE ST -122.371274  37.727564   \n",
       "8                 NONE           600 Block of 47TH AV -122.508194  37.776601   \n",
       "9                 NONE  JEFFERSON ST / LEAVENWORTH ST -122.419088  37.807802   \n",
       "10                NONE  JEFFERSON ST / LEAVENWORTH ST -122.419088  37.807802   \n",
       "11                NONE          0 Block of ESCOLTA WY -122.487983  37.737667   \n",
       "12                NONE             TURK ST / JONES ST -122.412414  37.783004   \n",
       "13                NONE         FILLMORE ST / GEARY BL -122.432915  37.784353   \n",
       "14                NONE       200 Block of WILLIAMS AV -122.397744  37.729935   \n",
       "15                NONE          0 Block of MENDELL ST -122.383692  37.743189   \n",
       "16                NONE             EDDY ST / JONES ST -122.412597  37.783932   \n",
       "17                NONE         GODEUS ST / MISSION ST -122.421682  37.742822   \n",
       "18      ARREST, BOOKED         MENDELL ST / HUDSON AV -122.386401  37.738983   \n",
       "19                NONE          100 Block of JONES ST -122.412250  37.782556   \n",
       "20                NONE         200 Block of EVELYN WY -122.449389  37.742669   \n",
       "21                NONE      1600 Block of VALENCIA ST -122.420272  37.747332   \n",
       "22                NONE          100 Block of JONES ST -122.412250  37.782556   \n",
       "23                NONE          100 Block of JONES ST -122.412250  37.782556   \n",
       "24                NONE       FILLMORE ST / LOMBARD ST -122.436049  37.799841   \n",
       "25                NONE       300 Block of OFARRELL ST -122.410509  37.786043   \n",
       "26                NONE          2000 Block of BUSH ST -122.431018  37.787388   \n",
       "27                NONE        500 Block of COLLEGE AV -122.423656  37.732556   \n",
       "28                NONE          19TH AV / SANTIAGO ST -122.475773  37.744919   \n",
       "29                NONE          2000 Block of 41ST AV -122.499787  37.748518   \n",
       "...                ...                            ...         ...        ...   \n",
       "878019   ARREST, CITED             6TH ST / MARKET ST -122.410294  37.782231   \n",
       "878020   ARREST, CITED          VAN NESS AV / TURK ST -122.420642  37.781961   \n",
       "878021  NOT PROSECUTED           SANCHEZ ST / 14TH ST -122.431191  37.767595   \n",
       "878022            NONE           17TH ST / MISSION ST -122.419516  37.763429   \n",
       "878023            NONE          600 Block of ELLIS ST -122.416894  37.784286   \n",
       "878024   ARREST, CITED     600 Block of DIVISADERO ST -122.437781  37.775483   \n",
       "878025  ARREST, BOOKED         NEWHALL ST / GALVEZ AV -122.387710  37.740674   \n",
       "878026  ARREST, BOOKED         NEWHALL ST / GALVEZ AV -122.387710  37.740674   \n",
       "878027  ARREST, BOOKED         900 Block of MARKET ST -122.409708  37.782828   \n",
       "878028            NONE             6TH ST / MARKET ST -122.410294  37.782231   \n",
       "878029  ARREST, BOOKED   1400 Block of GOLDEN GATE AV -122.434423  37.779193   \n",
       "878030  ARREST, BOOKED   1400 Block of GOLDEN GATE AV -122.434423  37.779193   \n",
       "878031            NONE            3RD ST / NEWCOMB AV -122.390417  37.735593   \n",
       "878032   ARREST, CITED         GEARY BL / FRANKLIN ST -122.423031  37.785482   \n",
       "878033   ARREST, CITED          1000 Block of 22ND AV -122.391668  37.757793   \n",
       "878034   ARREST, CITED          1000 Block of 22ND AV -122.391668  37.757793   \n",
       "878035            NONE       1300 Block of WEBSTER ST -122.431046  37.783030   \n",
       "878036            NONE       1300 Block of WEBSTER ST -122.431046  37.783030   \n",
       "878037            NONE       1300 Block of WEBSTER ST -122.431046  37.783030   \n",
       "878038  ARREST, BOOKED           TAYLOR ST / GEARY ST -122.411519  37.786941   \n",
       "878039   ARREST, CITED        POLK ST / CALIFORNIA ST -122.420692  37.790577   \n",
       "878040            NONE        2800 Block of FOLSOM ST -122.414073  37.751685   \n",
       "878041   ARREST, CITED           CLEMENT ST / 14TH AV -122.472985  37.782552   \n",
       "878042  ARREST, BOOKED       1500 Block of SHAFTER AV -122.389769  37.730564   \n",
       "878043  ARREST, BOOKED       1500 Block of SHAFTER AV -122.389769  37.730564   \n",
       "878044            NONE     FARALLONES ST / CAPITOL AV -122.459033  37.714056   \n",
       "878045            NONE           600 Block of EDNA ST -122.447364  37.731948   \n",
       "878046            NONE             5TH ST / FOLSOM ST -122.403390  37.780266   \n",
       "878047            NONE           TOWNSEND ST / 2ND ST -122.390531  37.780607   \n",
       "878048            NONE       1800 Block of NEWCOMB AV -122.394926  37.738212   \n",
       "\n",
       "        month  year  \n",
       "0           5  2015  \n",
       "1           5  2015  \n",
       "2           5  2015  \n",
       "3           5  2015  \n",
       "4           5  2015  \n",
       "5           5  2015  \n",
       "6           5  2015  \n",
       "7           5  2015  \n",
       "8           5  2015  \n",
       "9           5  2015  \n",
       "10          5  2015  \n",
       "11          5  2015  \n",
       "12          5  2015  \n",
       "13          5  2015  \n",
       "14          5  2015  \n",
       "15          5  2015  \n",
       "16          5  2015  \n",
       "17          5  2015  \n",
       "18          5  2015  \n",
       "19          5  2015  \n",
       "20          5  2015  \n",
       "21          5  2015  \n",
       "22          5  2015  \n",
       "23          5  2015  \n",
       "24          5  2015  \n",
       "25          5  2015  \n",
       "26          5  2015  \n",
       "27          5  2015  \n",
       "28          5  2015  \n",
       "29          5  2015  \n",
       "...       ...   ...  \n",
       "878019      1  2003  \n",
       "878020      1  2003  \n",
       "878021      1  2003  \n",
       "878022      1  2003  \n",
       "878023      1  2003  \n",
       "878024      1  2003  \n",
       "878025      1  2003  \n",
       "878026      1  2003  \n",
       "878027      1  2003  \n",
       "878028      1  2003  \n",
       "878029      1  2003  \n",
       "878030      1  2003  \n",
       "878031      1  2003  \n",
       "878032      1  2003  \n",
       "878033      1  2003  \n",
       "878034      1  2003  \n",
       "878035      1  2003  \n",
       "878036      1  2003  \n",
       "878037      1  2003  \n",
       "878038      1  2003  \n",
       "878039      1  2003  \n",
       "878040      1  2003  \n",
       "878041      1  2003  \n",
       "878042      1  2003  \n",
       "878043      1  2003  \n",
       "878044      1  2003  \n",
       "878045      1  2003  \n",
       "878046      1  2003  \n",
       "878047      1  2003  \n",
       "878048      1  2003  \n",
       "\n",
       "[878049 rows x 11 columns]>"
      ]
     },
     "execution_count": 112,
     "metadata": {},
     "output_type": "execute_result"
    }
   ],
   "source": [
    "train['month']=train.Dates.apply(lambda x: datetime.strptime(x,\"%Y-%m-%d %H:%M:%S\").month)\n",
    "train['year']=train.Dates.apply(lambda x: datetime.strptime(x,\"%Y-%m-%d %H:%M:%S\").year)\n",
    "train.head"
   ]
  },
  {
   "cell_type": "code",
   "execution_count": 113,
   "metadata": {
    "collapsed": false
   },
   "outputs": [],
   "source": [
    "tmp=train.Dates.apply(lambda x: datetime.strptime(x,\"%Y-%m-%d %H:%M:%S\"))\n",
    "train['week']=tmp.apply(lambda x:x.week)"
   ]
  },
  {
   "cell_type": "code",
   "execution_count": 114,
   "metadata": {
    "collapsed": false
   },
   "outputs": [
    {
     "ename": "AttributeError",
     "evalue": "'datetime.datetime' object has no attribute 'week'",
     "output_type": "error",
     "traceback": [
      "\u001b[0;31m---------------------------------------------------------------------------\u001b[0m",
      "\u001b[0;31mAttributeError\u001b[0m                            Traceback (most recent call last)",
      "\u001b[0;32m<ipython-input-114-305d32c7c81b>\u001b[0m in \u001b[0;36m<module>\u001b[0;34m()\u001b[0m\n\u001b[0;32m----> 1\u001b[0;31m \u001b[0mtmp\u001b[0m\u001b[0;34m=\u001b[0m\u001b[0mtrain\u001b[0m\u001b[0;34m.\u001b[0m\u001b[0mDates\u001b[0m\u001b[0;34m.\u001b[0m\u001b[0mapply\u001b[0m\u001b[0;34m(\u001b[0m\u001b[0;32mlambda\u001b[0m \u001b[0mx\u001b[0m\u001b[0;34m:\u001b[0m \u001b[0mdatetime\u001b[0m\u001b[0;34m.\u001b[0m\u001b[0mstrptime\u001b[0m\u001b[0;34m(\u001b[0m\u001b[0mx\u001b[0m\u001b[0;34m,\u001b[0m\u001b[0;34m\"%Y-%m-%d %H:%M:%S\"\u001b[0m\u001b[0;34m)\u001b[0m\u001b[0;34m.\u001b[0m\u001b[0mweek\u001b[0m\u001b[0;34m)\u001b[0m\u001b[0;34m\u001b[0m\u001b[0m\n\u001b[0m",
      "\u001b[0;32m/Users/maggiec/Envs/twitter/lib/python2.7/site-packages/pandas/core/series.pyc\u001b[0m in \u001b[0;36mapply\u001b[0;34m(self, func, convert_dtype, args, **kwds)\u001b[0m\n\u001b[1;32m   2167\u001b[0m             \u001b[0mvalues\u001b[0m \u001b[0;34m=\u001b[0m \u001b[0mlib\u001b[0m\u001b[0;34m.\u001b[0m\u001b[0mmap_infer\u001b[0m\u001b[0;34m(\u001b[0m\u001b[0mvalues\u001b[0m\u001b[0;34m,\u001b[0m \u001b[0mlib\u001b[0m\u001b[0;34m.\u001b[0m\u001b[0mTimestamp\u001b[0m\u001b[0;34m)\u001b[0m\u001b[0;34m\u001b[0m\u001b[0m\n\u001b[1;32m   2168\u001b[0m \u001b[0;34m\u001b[0m\u001b[0m\n\u001b[0;32m-> 2169\u001b[0;31m         \u001b[0mmapped\u001b[0m \u001b[0;34m=\u001b[0m \u001b[0mlib\u001b[0m\u001b[0;34m.\u001b[0m\u001b[0mmap_infer\u001b[0m\u001b[0;34m(\u001b[0m\u001b[0mvalues\u001b[0m\u001b[0;34m,\u001b[0m \u001b[0mf\u001b[0m\u001b[0;34m,\u001b[0m \u001b[0mconvert\u001b[0m\u001b[0;34m=\u001b[0m\u001b[0mconvert_dtype\u001b[0m\u001b[0;34m)\u001b[0m\u001b[0;34m\u001b[0m\u001b[0m\n\u001b[0m\u001b[1;32m   2170\u001b[0m         \u001b[0;32mif\u001b[0m \u001b[0mlen\u001b[0m\u001b[0;34m(\u001b[0m\u001b[0mmapped\u001b[0m\u001b[0;34m)\u001b[0m \u001b[0;32mand\u001b[0m \u001b[0misinstance\u001b[0m\u001b[0;34m(\u001b[0m\u001b[0mmapped\u001b[0m\u001b[0;34m[\u001b[0m\u001b[0;36m0\u001b[0m\u001b[0;34m]\u001b[0m\u001b[0;34m,\u001b[0m \u001b[0mSeries\u001b[0m\u001b[0;34m)\u001b[0m\u001b[0;34m:\u001b[0m\u001b[0;34m\u001b[0m\u001b[0m\n\u001b[1;32m   2171\u001b[0m             \u001b[0;32mfrom\u001b[0m \u001b[0mpandas\u001b[0m\u001b[0;34m.\u001b[0m\u001b[0mcore\u001b[0m\u001b[0;34m.\u001b[0m\u001b[0mframe\u001b[0m \u001b[0;32mimport\u001b[0m \u001b[0mDataFrame\u001b[0m\u001b[0;34m\u001b[0m\u001b[0m\n",
      "\u001b[0;32mpandas/src/inference.pyx\u001b[0m in \u001b[0;36mpandas.lib.map_infer (pandas/lib.c:62578)\u001b[0;34m()\u001b[0m\n",
      "\u001b[0;32m<ipython-input-114-305d32c7c81b>\u001b[0m in \u001b[0;36m<lambda>\u001b[0;34m(x)\u001b[0m\n\u001b[0;32m----> 1\u001b[0;31m \u001b[0mtmp\u001b[0m\u001b[0;34m=\u001b[0m\u001b[0mtrain\u001b[0m\u001b[0;34m.\u001b[0m\u001b[0mDates\u001b[0m\u001b[0;34m.\u001b[0m\u001b[0mapply\u001b[0m\u001b[0;34m(\u001b[0m\u001b[0;32mlambda\u001b[0m \u001b[0mx\u001b[0m\u001b[0;34m:\u001b[0m \u001b[0mdatetime\u001b[0m\u001b[0;34m.\u001b[0m\u001b[0mstrptime\u001b[0m\u001b[0;34m(\u001b[0m\u001b[0mx\u001b[0m\u001b[0;34m,\u001b[0m\u001b[0;34m\"%Y-%m-%d %H:%M:%S\"\u001b[0m\u001b[0;34m)\u001b[0m\u001b[0;34m.\u001b[0m\u001b[0mweek\u001b[0m\u001b[0;34m)\u001b[0m\u001b[0;34m\u001b[0m\u001b[0m\n\u001b[0m",
      "\u001b[0;31mAttributeError\u001b[0m: 'datetime.datetime' object has no attribute 'week'"
     ]
    }
   ],
   "source": [
    "tmp=train.Dates.apply(lambda x: datetime.strptime(x,\"%Y-%m-%d %H:%M:%S\").week)"
   ]
  },
  {
   "cell_type": "code",
   "execution_count": null,
   "metadata": {
    "collapsed": false
   },
   "outputs": [],
   "source": [
    "train.head"
   ]
  },
  {
   "cell_type": "code",
   "execution_count": null,
   "metadata": {
    "collapsed": false
   },
   "outputs": [],
   "source": [
    "#train[\"DayOfWeek\"]=train[\"DayOfWeek\"].apply(lambda x: datetime.strptime(x,\"%Y-%m-%d %H:%M:%S\"))\n",
    "\n",
    "tmp=datetime.strptime(train[\"DayOfWeek\"].iloc[1],\"%A\")\n",
    "tmp\n"
   ]
  },
  {
   "cell_type": "code",
   "execution_count": null,
   "metadata": {
    "collapsed": false
   },
   "outputs": [],
   "source": [
    "datetime.strptime(train[\"DayOfWeek\"].iloc[2],\"%A\").weekday()"
   ]
  },
  {
   "cell_type": "code",
   "execution_count": null,
   "metadata": {
    "collapsed": false
   },
   "outputs": [],
   "source": [
    "datetime.strptime(train[\"DayOfWeek\"].iloc[1],\"%A\").weekday()\n",
    "datetime.strptime(train[\"DayOfWeek\"].iloc[3],\"%A\").weekday()"
   ]
  },
  {
   "cell_type": "code",
   "execution_count": null,
   "metadata": {
    "collapsed": false
   },
   "outputs": [],
   "source": [
    "tmp.weekday()"
   ]
  },
  {
   "cell_type": "code",
   "execution_count": null,
   "metadata": {
    "collapsed": false
   },
   "outputs": [],
   "source": [
    "train[\"DayOfWeek\"].apply(lambda x:weekday(x))"
   ]
  },
  {
   "cell_type": "code",
   "execution_count": null,
   "metadata": {
    "collapsed": false
   },
   "outputs": [],
   "source": [
    "train[\"DayOfWeek\"] = train[\"DayOfWeek\"].astype('category').dt.day"
   ]
  },
  {
   "cell_type": "code",
   "execution_count": null,
   "metadata": {
    "collapsed": false
   },
   "outputs": [],
   "source": [
    "train[\"DayOfWeek\"].dtypes\n",
    "#how do you change Day of Week to int??"
   ]
  },
  {
   "cell_type": "code",
   "execution_count": 127,
   "metadata": {
    "collapsed": false
   },
   "outputs": [],
   "source": [
    "train[\"Category\"] = train[\"Category\"].astype('category')\n",
    "train[\"PdDistrict\"] = train[\"PdDistrict\"].astype('category')\n"
   ]
  },
  {
   "cell_type": "code",
   "execution_count": 106,
   "metadata": {
    "collapsed": false
   },
   "outputs": [
    {
     "data": {
      "text/html": [
       "<div>\n",
       "<table border=\"1\" class=\"dataframe\">\n",
       "  <thead>\n",
       "    <tr style=\"text-align: right;\">\n",
       "      <th></th>\n",
       "      <th>Dates</th>\n",
       "      <th>Category</th>\n",
       "      <th>Descript</th>\n",
       "      <th>DayOfWeek</th>\n",
       "      <th>PdDistrict</th>\n",
       "      <th>Resolution</th>\n",
       "      <th>Address</th>\n",
       "      <th>X</th>\n",
       "      <th>Y</th>\n",
       "      <th>month</th>\n",
       "      <th>year</th>\n",
       "      <th>week</th>\n",
       "    </tr>\n",
       "  </thead>\n",
       "  <tbody>\n",
       "    <tr>\n",
       "      <th>419604</th>\n",
       "      <td>2009-06-22 16:00:00</td>\n",
       "      <td>LARCENY/THEFT</td>\n",
       "      <td>GRAND THEFT OF PROPERTY</td>\n",
       "      <td>Monday</td>\n",
       "      <td>CENTRAL</td>\n",
       "      <td>NONE</td>\n",
       "      <td>STOCKTON ST / UNION ST</td>\n",
       "      <td>-122.409194</td>\n",
       "      <td>37.800444</td>\n",
       "      <td>6</td>\n",
       "      <td>2009</td>\n",
       "      <td>26</td>\n",
       "    </tr>\n",
       "    <tr>\n",
       "      <th>631202</th>\n",
       "      <td>2006-06-01 11:06:00</td>\n",
       "      <td>LARCENY/THEFT</td>\n",
       "      <td>GRAND THEFT FROM LOCKED AUTO</td>\n",
       "      <td>Thursday</td>\n",
       "      <td>NORTHERN</td>\n",
       "      <td>ARREST, BOOKED</td>\n",
       "      <td>1900 Block of POLK ST</td>\n",
       "      <td>-122.421564</td>\n",
       "      <td>37.794585</td>\n",
       "      <td>6</td>\n",
       "      <td>2006</td>\n",
       "      <td>22</td>\n",
       "    </tr>\n",
       "    <tr>\n",
       "      <th>634196</th>\n",
       "      <td>2006-05-17 13:30:00</td>\n",
       "      <td>ASSAULT</td>\n",
       "      <td>THREATS AGAINST LIFE</td>\n",
       "      <td>Wednesday</td>\n",
       "      <td>RICHMOND</td>\n",
       "      <td>NONE</td>\n",
       "      <td>700 Block of CLEMENT ST</td>\n",
       "      <td>-122.467102</td>\n",
       "      <td>37.782771</td>\n",
       "      <td>5</td>\n",
       "      <td>2006</td>\n",
       "      <td>20</td>\n",
       "    </tr>\n",
       "    <tr>\n",
       "      <th>797309</th>\n",
       "      <td>2004-02-04 07:35:00</td>\n",
       "      <td>DRUG/NARCOTIC</td>\n",
       "      <td>POSSESSION OF METH-AMPHETAMINE</td>\n",
       "      <td>Wednesday</td>\n",
       "      <td>MISSION</td>\n",
       "      <td>NONE</td>\n",
       "      <td>3800 Block of 18TH ST</td>\n",
       "      <td>-122.429490</td>\n",
       "      <td>37.761276</td>\n",
       "      <td>2</td>\n",
       "      <td>2004</td>\n",
       "      <td>6</td>\n",
       "    </tr>\n",
       "    <tr>\n",
       "      <th>196775</th>\n",
       "      <td>2012-10-03 18:45:00</td>\n",
       "      <td>SUSPICIOUS OCC</td>\n",
       "      <td>SUSPICIOUS ACT TOWARDS FEMALE</td>\n",
       "      <td>Wednesday</td>\n",
       "      <td>MISSION</td>\n",
       "      <td>NONE</td>\n",
       "      <td>3500 Block of CESAR CHAVEZ ST</td>\n",
       "      <td>-122.420833</td>\n",
       "      <td>37.747999</td>\n",
       "      <td>10</td>\n",
       "      <td>2012</td>\n",
       "      <td>40</td>\n",
       "    </tr>\n",
       "  </tbody>\n",
       "</table>\n",
       "</div>"
      ],
      "text/plain": [
       "                      Dates        Category                        Descript  \\\n",
       "419604  2009-06-22 16:00:00   LARCENY/THEFT         GRAND THEFT OF PROPERTY   \n",
       "631202  2006-06-01 11:06:00   LARCENY/THEFT    GRAND THEFT FROM LOCKED AUTO   \n",
       "634196  2006-05-17 13:30:00         ASSAULT            THREATS AGAINST LIFE   \n",
       "797309  2004-02-04 07:35:00   DRUG/NARCOTIC  POSSESSION OF METH-AMPHETAMINE   \n",
       "196775  2012-10-03 18:45:00  SUSPICIOUS OCC   SUSPICIOUS ACT TOWARDS FEMALE   \n",
       "\n",
       "        DayOfWeek PdDistrict      Resolution                        Address  \\\n",
       "419604     Monday    CENTRAL            NONE         STOCKTON ST / UNION ST   \n",
       "631202   Thursday   NORTHERN  ARREST, BOOKED          1900 Block of POLK ST   \n",
       "634196  Wednesday   RICHMOND            NONE        700 Block of CLEMENT ST   \n",
       "797309  Wednesday    MISSION            NONE          3800 Block of 18TH ST   \n",
       "196775  Wednesday    MISSION            NONE  3500 Block of CESAR CHAVEZ ST   \n",
       "\n",
       "                 X          Y  month  year  week  \n",
       "419604 -122.409194  37.800444      6  2009    26  \n",
       "631202 -122.421564  37.794585      6  2006    22  \n",
       "634196 -122.467102  37.782771      5  2006    20  \n",
       "797309 -122.429490  37.761276      2  2004     6  \n",
       "196775 -122.420833  37.747999     10  2012    40  "
      ]
     },
     "execution_count": 106,
     "metadata": {},
     "output_type": "execute_result"
    }
   ],
   "source": [
    "train.head()"
   ]
  },
  {
   "cell_type": "code",
   "execution_count": 134,
   "metadata": {
    "collapsed": true
   },
   "outputs": [],
   "source": [
    "from __future__ import print_function"
   ]
  },
  {
   "cell_type": "code",
   "execution_count": 135,
   "metadata": {
    "collapsed": false
   },
   "outputs": [
    {
     "name": "stdout",
     "output_type": "stream",
     "text": [
      "['/Users/maggiec/anaconda/lib/python2.7/site-packages/IPython/kernel/__main__.py', '-f', '/Users/maggiec/.ipython/profile_default/security/kernel-a54261b6-c04d-4124-b01b-953b3ab5e4d1.json', '--profile-dir', '/Users/maggiec/.ipython/profile_default'] 5\n"
     ]
    }
   ],
   "source": [
    "import sys\n",
    "print(sys.argv, len(sys.argv))"
   ]
  },
  {
   "cell_type": "code",
   "execution_count": null,
   "metadata": {
    "collapsed": true
   },
   "outputs": [],
   "source": []
  }
 ],
 "metadata": {
  "kernelspec": {
   "display_name": "Python 2",
   "language": "python",
   "name": "python2"
  },
  "language_info": {
   "codemirror_mode": {
    "name": "ipython",
    "version": 2
   },
   "file_extension": ".py",
   "mimetype": "text/x-python",
   "name": "python",
   "nbconvert_exporter": "python",
   "pygments_lexer": "ipython2",
   "version": "2.7.10"
  }
 },
 "nbformat": 4,
 "nbformat_minor": 0
}
